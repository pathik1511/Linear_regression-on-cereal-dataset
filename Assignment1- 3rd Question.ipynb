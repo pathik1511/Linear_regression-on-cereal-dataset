{
 "cells": [
  {
   "cell_type": "markdown",
   "id": "8a2123d5",
   "metadata": {},
   "source": [
    "# 1. Creating Multi Linear Regression Model for Cereals Dataset"
   ]
  },
  {
   "cell_type": "code",
   "execution_count": 1,
   "id": "6887d7f5",
   "metadata": {},
   "outputs": [],
   "source": [
    "# Importing necessary libraries\n",
    "import pandas as pd\n",
    "import numpy as np\n",
    "import matplotlib.pyplot as plt\n",
    "import seaborn as sns\n",
    "from tqdm import tqdm\n",
    "import random"
   ]
  },
  {
   "cell_type": "code",
   "execution_count": 2,
   "id": "c2ab9e54",
   "metadata": {},
   "outputs": [],
   "source": [
    "# Reading data and pre-processing\n",
    "cereal_data = pd.read_csv(\"cereal.csv\",sep = \";\")\n",
    "cereal_data = cereal_data.drop(0)"
   ]
  },
  {
   "cell_type": "code",
   "execution_count": 3,
   "id": "6f5d8a31",
   "metadata": {},
   "outputs": [
    {
     "name": "stdout",
     "output_type": "stream",
     "text": [
      "<class 'pandas.core.frame.DataFrame'>\n",
      "Int64Index: 77 entries, 1 to 77\n",
      "Data columns (total 16 columns):\n",
      " #   Column    Non-Null Count  Dtype \n",
      "---  ------    --------------  ----- \n",
      " 0   name      77 non-null     object\n",
      " 1   mfr       77 non-null     object\n",
      " 2   type      77 non-null     object\n",
      " 3   calories  77 non-null     object\n",
      " 4   protein   77 non-null     object\n",
      " 5   fat       77 non-null     object\n",
      " 6   sodium    77 non-null     object\n",
      " 7   fiber     77 non-null     object\n",
      " 8   carbo     77 non-null     object\n",
      " 9   sugars    77 non-null     object\n",
      " 10  potass    77 non-null     object\n",
      " 11  vitamins  77 non-null     object\n",
      " 12  shelf     77 non-null     object\n",
      " 13  weight    77 non-null     object\n",
      " 14  cups      77 non-null     object\n",
      " 15  rating    77 non-null     object\n",
      "dtypes: object(16)\n",
      "memory usage: 10.2+ KB\n"
     ]
    }
   ],
   "source": [
    "cereal_data.info()"
   ]
  },
  {
   "cell_type": "code",
   "execution_count": 4,
   "id": "db3401ec",
   "metadata": {},
   "outputs": [],
   "source": [
    "type_list = ['type']\n",
    "def binary_map(x):\n",
    "    return x.map({'H': 1, \"C\": 0})\n",
    "cereal_data[type_list] = cereal_data[type_list].apply(binary_map)"
   ]
  },
  {
   "cell_type": "code",
   "execution_count": 5,
   "id": "24763977",
   "metadata": {},
   "outputs": [
    {
     "data": {
      "text/html": [
       "<div>\n",
       "<style scoped>\n",
       "    .dataframe tbody tr th:only-of-type {\n",
       "        vertical-align: middle;\n",
       "    }\n",
       "\n",
       "    .dataframe tbody tr th {\n",
       "        vertical-align: top;\n",
       "    }\n",
       "\n",
       "    .dataframe thead th {\n",
       "        text-align: right;\n",
       "    }\n",
       "</style>\n",
       "<table border=\"1\" class=\"dataframe\">\n",
       "  <thead>\n",
       "    <tr style=\"text-align: right;\">\n",
       "      <th></th>\n",
       "      <th>type</th>\n",
       "      <th>calories</th>\n",
       "      <th>protein</th>\n",
       "      <th>fat</th>\n",
       "      <th>sodium</th>\n",
       "      <th>fiber</th>\n",
       "      <th>carbo</th>\n",
       "      <th>sugars</th>\n",
       "      <th>potass</th>\n",
       "      <th>vitamins</th>\n",
       "      <th>...</th>\n",
       "      <th>weight</th>\n",
       "      <th>cups</th>\n",
       "      <th>rating</th>\n",
       "      <th>A</th>\n",
       "      <th>G</th>\n",
       "      <th>K</th>\n",
       "      <th>N</th>\n",
       "      <th>P</th>\n",
       "      <th>Q</th>\n",
       "      <th>R</th>\n",
       "    </tr>\n",
       "  </thead>\n",
       "  <tbody>\n",
       "    <tr>\n",
       "      <th>1</th>\n",
       "      <td>0</td>\n",
       "      <td>70</td>\n",
       "      <td>4</td>\n",
       "      <td>1</td>\n",
       "      <td>130</td>\n",
       "      <td>10</td>\n",
       "      <td>5</td>\n",
       "      <td>6</td>\n",
       "      <td>280</td>\n",
       "      <td>25</td>\n",
       "      <td>...</td>\n",
       "      <td>1</td>\n",
       "      <td>0.33</td>\n",
       "      <td>68.402973</td>\n",
       "      <td>0</td>\n",
       "      <td>0</td>\n",
       "      <td>0</td>\n",
       "      <td>1</td>\n",
       "      <td>0</td>\n",
       "      <td>0</td>\n",
       "      <td>0</td>\n",
       "    </tr>\n",
       "    <tr>\n",
       "      <th>2</th>\n",
       "      <td>0</td>\n",
       "      <td>120</td>\n",
       "      <td>3</td>\n",
       "      <td>5</td>\n",
       "      <td>15</td>\n",
       "      <td>2</td>\n",
       "      <td>8</td>\n",
       "      <td>8</td>\n",
       "      <td>135</td>\n",
       "      <td>0</td>\n",
       "      <td>...</td>\n",
       "      <td>1</td>\n",
       "      <td>1</td>\n",
       "      <td>33.983679</td>\n",
       "      <td>0</td>\n",
       "      <td>0</td>\n",
       "      <td>0</td>\n",
       "      <td>0</td>\n",
       "      <td>0</td>\n",
       "      <td>1</td>\n",
       "      <td>0</td>\n",
       "    </tr>\n",
       "    <tr>\n",
       "      <th>3</th>\n",
       "      <td>0</td>\n",
       "      <td>70</td>\n",
       "      <td>4</td>\n",
       "      <td>1</td>\n",
       "      <td>260</td>\n",
       "      <td>9</td>\n",
       "      <td>7</td>\n",
       "      <td>5</td>\n",
       "      <td>320</td>\n",
       "      <td>25</td>\n",
       "      <td>...</td>\n",
       "      <td>1</td>\n",
       "      <td>0.33</td>\n",
       "      <td>59.425505</td>\n",
       "      <td>0</td>\n",
       "      <td>0</td>\n",
       "      <td>1</td>\n",
       "      <td>0</td>\n",
       "      <td>0</td>\n",
       "      <td>0</td>\n",
       "      <td>0</td>\n",
       "    </tr>\n",
       "    <tr>\n",
       "      <th>4</th>\n",
       "      <td>0</td>\n",
       "      <td>50</td>\n",
       "      <td>4</td>\n",
       "      <td>0</td>\n",
       "      <td>140</td>\n",
       "      <td>14</td>\n",
       "      <td>8</td>\n",
       "      <td>0</td>\n",
       "      <td>330</td>\n",
       "      <td>25</td>\n",
       "      <td>...</td>\n",
       "      <td>1</td>\n",
       "      <td>0.5</td>\n",
       "      <td>93.704912</td>\n",
       "      <td>0</td>\n",
       "      <td>0</td>\n",
       "      <td>1</td>\n",
       "      <td>0</td>\n",
       "      <td>0</td>\n",
       "      <td>0</td>\n",
       "      <td>0</td>\n",
       "    </tr>\n",
       "    <tr>\n",
       "      <th>5</th>\n",
       "      <td>0</td>\n",
       "      <td>110</td>\n",
       "      <td>2</td>\n",
       "      <td>2</td>\n",
       "      <td>200</td>\n",
       "      <td>1</td>\n",
       "      <td>14</td>\n",
       "      <td>8</td>\n",
       "      <td>-1</td>\n",
       "      <td>25</td>\n",
       "      <td>...</td>\n",
       "      <td>1</td>\n",
       "      <td>0.75</td>\n",
       "      <td>34.384843</td>\n",
       "      <td>0</td>\n",
       "      <td>0</td>\n",
       "      <td>0</td>\n",
       "      <td>0</td>\n",
       "      <td>0</td>\n",
       "      <td>0</td>\n",
       "      <td>1</td>\n",
       "    </tr>\n",
       "    <tr>\n",
       "      <th>...</th>\n",
       "      <td>...</td>\n",
       "      <td>...</td>\n",
       "      <td>...</td>\n",
       "      <td>...</td>\n",
       "      <td>...</td>\n",
       "      <td>...</td>\n",
       "      <td>...</td>\n",
       "      <td>...</td>\n",
       "      <td>...</td>\n",
       "      <td>...</td>\n",
       "      <td>...</td>\n",
       "      <td>...</td>\n",
       "      <td>...</td>\n",
       "      <td>...</td>\n",
       "      <td>...</td>\n",
       "      <td>...</td>\n",
       "      <td>...</td>\n",
       "      <td>...</td>\n",
       "      <td>...</td>\n",
       "      <td>...</td>\n",
       "      <td>...</td>\n",
       "    </tr>\n",
       "    <tr>\n",
       "      <th>73</th>\n",
       "      <td>0</td>\n",
       "      <td>110</td>\n",
       "      <td>2</td>\n",
       "      <td>1</td>\n",
       "      <td>250</td>\n",
       "      <td>0</td>\n",
       "      <td>21</td>\n",
       "      <td>3</td>\n",
       "      <td>60</td>\n",
       "      <td>25</td>\n",
       "      <td>...</td>\n",
       "      <td>1</td>\n",
       "      <td>0.75</td>\n",
       "      <td>39.106174</td>\n",
       "      <td>0</td>\n",
       "      <td>1</td>\n",
       "      <td>0</td>\n",
       "      <td>0</td>\n",
       "      <td>0</td>\n",
       "      <td>0</td>\n",
       "      <td>0</td>\n",
       "    </tr>\n",
       "    <tr>\n",
       "      <th>74</th>\n",
       "      <td>0</td>\n",
       "      <td>110</td>\n",
       "      <td>1</td>\n",
       "      <td>1</td>\n",
       "      <td>140</td>\n",
       "      <td>0</td>\n",
       "      <td>13</td>\n",
       "      <td>12</td>\n",
       "      <td>25</td>\n",
       "      <td>25</td>\n",
       "      <td>...</td>\n",
       "      <td>1</td>\n",
       "      <td>1</td>\n",
       "      <td>27.753301</td>\n",
       "      <td>0</td>\n",
       "      <td>1</td>\n",
       "      <td>0</td>\n",
       "      <td>0</td>\n",
       "      <td>0</td>\n",
       "      <td>0</td>\n",
       "      <td>0</td>\n",
       "    </tr>\n",
       "    <tr>\n",
       "      <th>75</th>\n",
       "      <td>0</td>\n",
       "      <td>100</td>\n",
       "      <td>3</td>\n",
       "      <td>1</td>\n",
       "      <td>230</td>\n",
       "      <td>3</td>\n",
       "      <td>17</td>\n",
       "      <td>3</td>\n",
       "      <td>115</td>\n",
       "      <td>25</td>\n",
       "      <td>...</td>\n",
       "      <td>1</td>\n",
       "      <td>0.67</td>\n",
       "      <td>49.787445</td>\n",
       "      <td>0</td>\n",
       "      <td>0</td>\n",
       "      <td>0</td>\n",
       "      <td>0</td>\n",
       "      <td>0</td>\n",
       "      <td>0</td>\n",
       "      <td>1</td>\n",
       "    </tr>\n",
       "    <tr>\n",
       "      <th>76</th>\n",
       "      <td>0</td>\n",
       "      <td>100</td>\n",
       "      <td>3</td>\n",
       "      <td>1</td>\n",
       "      <td>200</td>\n",
       "      <td>3</td>\n",
       "      <td>17</td>\n",
       "      <td>3</td>\n",
       "      <td>110</td>\n",
       "      <td>25</td>\n",
       "      <td>...</td>\n",
       "      <td>1</td>\n",
       "      <td>1</td>\n",
       "      <td>51.592193</td>\n",
       "      <td>0</td>\n",
       "      <td>1</td>\n",
       "      <td>0</td>\n",
       "      <td>0</td>\n",
       "      <td>0</td>\n",
       "      <td>0</td>\n",
       "      <td>0</td>\n",
       "    </tr>\n",
       "    <tr>\n",
       "      <th>77</th>\n",
       "      <td>0</td>\n",
       "      <td>110</td>\n",
       "      <td>2</td>\n",
       "      <td>1</td>\n",
       "      <td>200</td>\n",
       "      <td>1</td>\n",
       "      <td>16</td>\n",
       "      <td>8</td>\n",
       "      <td>60</td>\n",
       "      <td>25</td>\n",
       "      <td>...</td>\n",
       "      <td>1</td>\n",
       "      <td>0.75</td>\n",
       "      <td>36.187559</td>\n",
       "      <td>0</td>\n",
       "      <td>1</td>\n",
       "      <td>0</td>\n",
       "      <td>0</td>\n",
       "      <td>0</td>\n",
       "      <td>0</td>\n",
       "      <td>0</td>\n",
       "    </tr>\n",
       "  </tbody>\n",
       "</table>\n",
       "<p>77 rows × 21 columns</p>\n",
       "</div>"
      ],
      "text/plain": [
       "    type calories protein fat sodium fiber carbo sugars potass vitamins  ...  \\\n",
       "1      0       70       4   1    130    10     5      6    280       25  ...   \n",
       "2      0      120       3   5     15     2     8      8    135        0  ...   \n",
       "3      0       70       4   1    260     9     7      5    320       25  ...   \n",
       "4      0       50       4   0    140    14     8      0    330       25  ...   \n",
       "5      0      110       2   2    200     1    14      8     -1       25  ...   \n",
       "..   ...      ...     ...  ..    ...   ...   ...    ...    ...      ...  ...   \n",
       "73     0      110       2   1    250     0    21      3     60       25  ...   \n",
       "74     0      110       1   1    140     0    13     12     25       25  ...   \n",
       "75     0      100       3   1    230     3    17      3    115       25  ...   \n",
       "76     0      100       3   1    200     3    17      3    110       25  ...   \n",
       "77     0      110       2   1    200     1    16      8     60       25  ...   \n",
       "\n",
       "   weight  cups     rating  A  G  K  N  P  Q  R  \n",
       "1       1  0.33  68.402973  0  0  0  1  0  0  0  \n",
       "2       1     1  33.983679  0  0  0  0  0  1  0  \n",
       "3       1  0.33  59.425505  0  0  1  0  0  0  0  \n",
       "4       1   0.5  93.704912  0  0  1  0  0  0  0  \n",
       "5       1  0.75  34.384843  0  0  0  0  0  0  1  \n",
       "..    ...   ...        ... .. .. .. .. .. .. ..  \n",
       "73      1  0.75  39.106174  0  1  0  0  0  0  0  \n",
       "74      1     1  27.753301  0  1  0  0  0  0  0  \n",
       "75      1  0.67  49.787445  0  0  0  0  0  0  1  \n",
       "76      1     1  51.592193  0  1  0  0  0  0  0  \n",
       "77      1  0.75  36.187559  0  1  0  0  0  0  0  \n",
       "\n",
       "[77 rows x 21 columns]"
      ]
     },
     "execution_count": 5,
     "metadata": {},
     "output_type": "execute_result"
    }
   ],
   "source": [
    "# Converting categorical values to numbers\n",
    "mfr_data = pd.get_dummies(cereal_data['mfr'])\n",
    "cereal_data = pd.concat([cereal_data, mfr_data], axis = 1)\n",
    "cereal_data.drop(['mfr'],axis = 1,inplace=True)\n",
    "cereal_data.drop(['name'],axis = 1,inplace=True)\n",
    "cereal_data"
   ]
  },
  {
   "cell_type": "code",
   "execution_count": 6,
   "id": "afb1518f",
   "metadata": {},
   "outputs": [],
   "source": [
    "#Splitting test and train data\n",
    "from sklearn.model_selection import train_test_split\n",
    "np.random.seed(0)\n",
    "df_train, df_test = train_test_split(cereal_data, train_size = 0.8, test_size = 0.2, random_state = 100)"
   ]
  },
  {
   "cell_type": "code",
   "execution_count": 7,
   "id": "832b30c1",
   "metadata": {},
   "outputs": [
    {
     "name": "stderr",
     "output_type": "stream",
     "text": [
      "C:\\ProgramData\\Anaconda3\\lib\\site-packages\\pandas\\core\\frame.py:3678: SettingWithCopyWarning: \n",
      "A value is trying to be set on a copy of a slice from a DataFrame.\n",
      "Try using .loc[row_indexer,col_indexer] = value instead\n",
      "\n",
      "See the caveats in the documentation: https://pandas.pydata.org/pandas-docs/stable/user_guide/indexing.html#returning-a-view-versus-a-copy\n",
      "  self[col] = igetitem(value, i)\n"
     ]
    }
   ],
   "source": [
    "# Scaling the Train data\n",
    "from sklearn.preprocessing import MinMaxScaler\n",
    "scaler = MinMaxScaler()\n",
    "num_vars = ['type','calories','protein','fat','sodium','fiber','carbo','sugars','potass','vitamins','shelf','weight','cups','rating','A','G','K','N','P','Q','R']\n",
    "df_train[num_vars] = scaler.fit_transform(df_train[num_vars])\n",
    "#df_train"
   ]
  },
  {
   "cell_type": "code",
   "execution_count": 8,
   "id": "6a34c5f3",
   "metadata": {},
   "outputs": [],
   "source": [
    "# Dividing the training data set into X and Y\n",
    "y_train = df_train.pop('rating')\n",
    "X_train = df_train"
   ]
  },
  {
   "cell_type": "code",
   "execution_count": 9,
   "id": "c68132ea",
   "metadata": {},
   "outputs": [
    {
     "name": "stderr",
     "output_type": "stream",
     "text": [
      "C:\\ProgramData\\Anaconda3\\lib\\site-packages\\sklearn\\utils\\validation.py:70: FutureWarning: Pass n_features_to_select=10 as keyword args. From version 1.0 (renaming of 0.25) passing these as positional arguments will result in an error\n",
      "  warnings.warn(f\"Pass {args_msg} as keyword args. From version \"\n"
     ]
    },
    {
     "data": {
      "text/plain": [
       "[('type', False, 4),\n",
       " ('calories', True, 1),\n",
       " ('protein', True, 1),\n",
       " ('fat', True, 1),\n",
       " ('sodium', True, 1),\n",
       " ('fiber', True, 1),\n",
       " ('carbo', True, 1),\n",
       " ('sugars', True, 1),\n",
       " ('potass', True, 1),\n",
       " ('vitamins', True, 1),\n",
       " ('shelf', False, 6),\n",
       " ('weight', False, 2),\n",
       " ('cups', True, 1),\n",
       " ('A', False, 3),\n",
       " ('G', False, 8),\n",
       " ('K', False, 7),\n",
       " ('N', False, 9),\n",
       " ('P', False, 5),\n",
       " ('Q', False, 11),\n",
       " ('R', False, 10)]"
      ]
     },
     "execution_count": 9,
     "metadata": {},
     "output_type": "execute_result"
    }
   ],
   "source": [
    "# Getting best features to predict the value\n",
    "from sklearn.feature_selection import RFE\n",
    "from sklearn.linear_model import LinearRegression\n",
    "lm = LinearRegression()\n",
    "lm.fit(X_train, y_train)\n",
    "rfe = RFE(lm, 10)\n",
    "rfe = rfe.fit(X_train, y_train)\n",
    "list(zip(X_train.columns,rfe.support_,rfe.ranking_))"
   ]
  },
  {
   "cell_type": "code",
   "execution_count": 10,
   "id": "cb37ca76",
   "metadata": {},
   "outputs": [],
   "source": [
    "X_train = df_train[['calories','protein','fat','sodium','fiber','carbo','sugars','potass','vitamins','cups']]"
   ]
  },
  {
   "cell_type": "code",
   "execution_count": 11,
   "id": "aa977a02",
   "metadata": {},
   "outputs": [
    {
     "name": "stderr",
     "output_type": "stream",
     "text": [
      "C:\\ProgramData\\Anaconda3\\lib\\site-packages\\statsmodels\\tsa\\tsatools.py:142: FutureWarning: In a future version of pandas all arguments of concat except for the argument 'objs' will be keyword-only\n",
      "  x = pd.concat(x[::order], 1)\n"
     ]
    },
    {
     "data": {
      "text/html": [
       "<table class=\"simpletable\">\n",
       "<caption>OLS Regression Results</caption>\n",
       "<tr>\n",
       "  <th>Dep. Variable:</th>         <td>rating</td>      <th>  R-squared:         </th> <td>   1.000</td> \n",
       "</tr>\n",
       "<tr>\n",
       "  <th>Model:</th>                   <td>OLS</td>       <th>  Adj. R-squared:    </th> <td>   1.000</td> \n",
       "</tr>\n",
       "<tr>\n",
       "  <th>Method:</th>             <td>Least Squares</td>  <th>  F-statistic:       </th> <td>1.224e+16</td>\n",
       "</tr>\n",
       "<tr>\n",
       "  <th>Date:</th>             <td>Fri, 25 Feb 2022</td> <th>  Prob (F-statistic):</th>  <td>  0.00</td>  \n",
       "</tr>\n",
       "<tr>\n",
       "  <th>Time:</th>                 <td>22:10:49</td>     <th>  Log-Likelihood:    </th> <td>  1100.9</td> \n",
       "</tr>\n",
       "<tr>\n",
       "  <th>No. Observations:</th>      <td>    61</td>      <th>  AIC:               </th> <td>  -2180.</td> \n",
       "</tr>\n",
       "<tr>\n",
       "  <th>Df Residuals:</th>          <td>    50</td>      <th>  BIC:               </th> <td>  -2157.</td> \n",
       "</tr>\n",
       "<tr>\n",
       "  <th>Df Model:</th>              <td>    10</td>      <th>                     </th>     <td> </td>    \n",
       "</tr>\n",
       "<tr>\n",
       "  <th>Covariance Type:</th>      <td>nonrobust</td>    <th>                     </th>     <td> </td>    \n",
       "</tr>\n",
       "</table>\n",
       "<table class=\"simpletable\">\n",
       "<tr>\n",
       "      <td></td>        <th>coef</th>     <th>std err</th>      <th>t</th>      <th>P>|t|</th>  <th>[0.025</th>    <th>0.975]</th>  \n",
       "</tr>\n",
       "<tr>\n",
       "  <th>const</th>    <td>    0.3792</td> <td> 4.04e-09</td> <td> 9.38e+07</td> <td> 0.000</td> <td>    0.379</td> <td>    0.379</td>\n",
       "</tr>\n",
       "<tr>\n",
       "  <th>calories</th> <td>   -0.2944</td> <td> 6.48e-09</td> <td>-4.54e+07</td> <td> 0.000</td> <td>   -0.294</td> <td>   -0.294</td>\n",
       "</tr>\n",
       "<tr>\n",
       "  <th>protein</th>  <td>    0.2163</td> <td> 3.96e-09</td> <td> 5.46e+07</td> <td> 0.000</td> <td>    0.216</td> <td>    0.216</td>\n",
       "</tr>\n",
       "<tr>\n",
       "  <th>fat</th>      <td>   -0.1118</td> <td> 3.94e-09</td> <td>-2.84e+07</td> <td> 0.000</td> <td>   -0.112</td> <td>   -0.112</td>\n",
       "</tr>\n",
       "<tr>\n",
       "  <th>sodium</th>   <td>   -0.2305</td> <td> 2.41e-09</td> <td>-9.58e+07</td> <td> 0.000</td> <td>   -0.230</td> <td>   -0.230</td>\n",
       "</tr>\n",
       "<tr>\n",
       "  <th>fiber</th>    <td>    0.6372</td> <td> 8.33e-09</td> <td> 7.64e+07</td> <td> 0.000</td> <td>    0.637</td> <td>    0.637</td>\n",
       "</tr>\n",
       "<tr>\n",
       "  <th>carbo</th>    <td>    0.3465</td> <td> 5.71e-09</td> <td> 6.07e+07</td> <td> 0.000</td> <td>    0.347</td> <td>    0.347</td>\n",
       "</tr>\n",
       "<tr>\n",
       "  <th>sugars</th>   <td>   -0.1533</td> <td> 3.98e-09</td> <td>-3.85e+07</td> <td> 0.000</td> <td>   -0.153</td> <td>   -0.153</td>\n",
       "</tr>\n",
       "<tr>\n",
       "  <th>potass</th>   <td>   -0.1487</td> <td> 6.61e-09</td> <td>-2.25e+07</td> <td> 0.000</td> <td>   -0.149</td> <td>   -0.149</td>\n",
       "</tr>\n",
       "<tr>\n",
       "  <th>vitamins</th> <td>   -0.0677</td> <td>  2.6e-09</td> <td>-2.61e+07</td> <td> 0.000</td> <td>   -0.068</td> <td>   -0.068</td>\n",
       "</tr>\n",
       "<tr>\n",
       "  <th>cups</th>     <td> 5.522e-09</td> <td> 2.93e-09</td> <td>    1.887</td> <td> 0.065</td> <td>-3.54e-10</td> <td> 1.14e-08</td>\n",
       "</tr>\n",
       "</table>\n",
       "<table class=\"simpletable\">\n",
       "<tr>\n",
       "  <th>Omnibus:</th>       <td>11.444</td> <th>  Durbin-Watson:     </th> <td>   1.980</td>\n",
       "</tr>\n",
       "<tr>\n",
       "  <th>Prob(Omnibus):</th> <td> 0.003</td> <th>  Jarque-Bera (JB):  </th> <td>   3.931</td>\n",
       "</tr>\n",
       "<tr>\n",
       "  <th>Skew:</th>          <td>-0.294</td> <th>  Prob(JB):          </th> <td>   0.140</td>\n",
       "</tr>\n",
       "<tr>\n",
       "  <th>Kurtosis:</th>      <td> 1.905</td> <th>  Cond. No.          </th> <td>    36.6</td>\n",
       "</tr>\n",
       "</table><br/><br/>Notes:<br/>[1] Standard Errors assume that the covariance matrix of the errors is correctly specified."
      ],
      "text/plain": [
       "<class 'statsmodels.iolib.summary.Summary'>\n",
       "\"\"\"\n",
       "                            OLS Regression Results                            \n",
       "==============================================================================\n",
       "Dep. Variable:                 rating   R-squared:                       1.000\n",
       "Model:                            OLS   Adj. R-squared:                  1.000\n",
       "Method:                 Least Squares   F-statistic:                 1.224e+16\n",
       "Date:                Fri, 25 Feb 2022   Prob (F-statistic):               0.00\n",
       "Time:                        22:10:49   Log-Likelihood:                 1100.9\n",
       "No. Observations:                  61   AIC:                            -2180.\n",
       "Df Residuals:                      50   BIC:                            -2157.\n",
       "Df Model:                          10                                         \n",
       "Covariance Type:            nonrobust                                         \n",
       "==============================================================================\n",
       "                 coef    std err          t      P>|t|      [0.025      0.975]\n",
       "------------------------------------------------------------------------------\n",
       "const          0.3792   4.04e-09   9.38e+07      0.000       0.379       0.379\n",
       "calories      -0.2944   6.48e-09  -4.54e+07      0.000      -0.294      -0.294\n",
       "protein        0.2163   3.96e-09   5.46e+07      0.000       0.216       0.216\n",
       "fat           -0.1118   3.94e-09  -2.84e+07      0.000      -0.112      -0.112\n",
       "sodium        -0.2305   2.41e-09  -9.58e+07      0.000      -0.230      -0.230\n",
       "fiber          0.6372   8.33e-09   7.64e+07      0.000       0.637       0.637\n",
       "carbo          0.3465   5.71e-09   6.07e+07      0.000       0.347       0.347\n",
       "sugars        -0.1533   3.98e-09  -3.85e+07      0.000      -0.153      -0.153\n",
       "potass        -0.1487   6.61e-09  -2.25e+07      0.000      -0.149      -0.149\n",
       "vitamins      -0.0677    2.6e-09  -2.61e+07      0.000      -0.068      -0.068\n",
       "cups        5.522e-09   2.93e-09      1.887      0.065   -3.54e-10    1.14e-08\n",
       "==============================================================================\n",
       "Omnibus:                       11.444   Durbin-Watson:                   1.980\n",
       "Prob(Omnibus):                  0.003   Jarque-Bera (JB):                3.931\n",
       "Skew:                          -0.294   Prob(JB):                        0.140\n",
       "Kurtosis:                       1.905   Cond. No.                         36.6\n",
       "==============================================================================\n",
       "\n",
       "Notes:\n",
       "[1] Standard Errors assume that the covariance matrix of the errors is correctly specified.\n",
       "\"\"\""
      ]
     },
     "execution_count": 11,
     "metadata": {},
     "output_type": "execute_result"
    }
   ],
   "source": [
    "# Model Building on train data\n",
    "import statsmodels.api as sm\n",
    "X_train_lm = sm.add_constant(X_train)\n",
    "lr_1 = sm.OLS(y_train.astype(float), X_train_lm.astype(float)).fit()\n",
    "lr_1.summary()"
   ]
  },
  {
   "cell_type": "code",
   "execution_count": 12,
   "id": "61479e2b",
   "metadata": {},
   "outputs": [
    {
     "name": "stderr",
     "output_type": "stream",
     "text": [
      "C:\\ProgramData\\Anaconda3\\lib\\site-packages\\pandas\\core\\frame.py:3678: SettingWithCopyWarning: \n",
      "A value is trying to be set on a copy of a slice from a DataFrame.\n",
      "Try using .loc[row_indexer,col_indexer] = value instead\n",
      "\n",
      "See the caveats in the documentation: https://pandas.pydata.org/pandas-docs/stable/user_guide/indexing.html#returning-a-view-versus-a-copy\n",
      "  self[col] = igetitem(value, i)\n"
     ]
    }
   ],
   "source": [
    "# Scaling Testing data\n",
    "num_vars = ['type','calories','protein','fat','sodium','fiber','carbo','sugars','potass','vitamins','shelf','weight','cups','rating','A','G','K','N','P','Q','R']\n",
    "df_test[num_vars] = scaler.transform(df_test[num_vars])"
   ]
  },
  {
   "cell_type": "code",
   "execution_count": 13,
   "id": "698d148e",
   "metadata": {},
   "outputs": [],
   "source": [
    "# Diving Test data in X and Y\n",
    "y_test = df_test.pop('rating')\n",
    "X_test = df_test[['calories','protein','fat','sodium','fiber','carbo','sugars','potass','vitamins','cups']]"
   ]
  },
  {
   "cell_type": "code",
   "execution_count": 14,
   "id": "c30b92dd",
   "metadata": {},
   "outputs": [
    {
     "name": "stderr",
     "output_type": "stream",
     "text": [
      "C:\\ProgramData\\Anaconda3\\lib\\site-packages\\statsmodels\\tsa\\tsatools.py:142: FutureWarning: In a future version of pandas all arguments of concat except for the argument 'objs' will be keyword-only\n",
      "  x = pd.concat(x[::order], 1)\n"
     ]
    }
   ],
   "source": [
    "# Adding constant variable to test dataframe\n",
    "X_test_m1 = sm.add_constant(X_test)\n",
    "# Predicting on test data using the model build above\n",
    "y_pred_m1 = lr_1.predict(X_test_m1)"
   ]
  },
  {
   "cell_type": "code",
   "execution_count": null,
   "id": "35c85bbb",
   "metadata": {},
   "outputs": [],
   "source": []
  },
  {
   "cell_type": "code",
   "execution_count": null,
   "id": "978c7893",
   "metadata": {},
   "outputs": [],
   "source": []
  },
  {
   "cell_type": "code",
   "execution_count": null,
   "id": "f2fc3df8",
   "metadata": {},
   "outputs": [],
   "source": []
  },
  {
   "cell_type": "markdown",
   "id": "dab0c496",
   "metadata": {},
   "source": [
    "# 2. Function that finds the optimal Beta vector (coefficients)"
   ]
  },
  {
   "cell_type": "code",
   "execution_count": 15,
   "id": "fadd1db5",
   "metadata": {},
   "outputs": [],
   "source": [
    "# function calculating beta values using mathematical formula with numpy as given in question \n",
    "def estimate_coef_multiple_linear_regression(X, y):\n",
    "    beta = np.dot((np.linalg.inv(np.dot(X.T,X))), np.dot(X.T,y))\n",
    "    return beta"
   ]
  },
  {
   "cell_type": "code",
   "execution_count": 16,
   "id": "239a63fd",
   "metadata": {},
   "outputs": [
    {
     "data": {
      "text/plain": [
       "array([-0.48870871,  0.38347529,  0.0562027 , -0.22650288,  0.88150513,\n",
       "        0.73170953,  0.07157783, -0.27132475, -0.10874613,  0.08994756])"
      ]
     },
     "execution_count": 16,
     "metadata": {},
     "output_type": "execute_result"
    }
   ],
   "source": [
    "# Calling the function with training data\n",
    "beta = estimate_coef_multiple_linear_regression(X_train, y_train)\n",
    "beta"
   ]
  },
  {
   "cell_type": "markdown",
   "id": "f9c41808",
   "metadata": {},
   "source": [
    "# 3. Predicting the values based on the new coefficients"
   ]
  },
  {
   "cell_type": "code",
   "execution_count": 17,
   "id": "aba3ac18",
   "metadata": {},
   "outputs": [],
   "source": [
    "# predicting on the test data with the new coefficients (beta)\n",
    "def manual_predict(X_test, beta):\n",
    "    return np.dot(X_test, beta)"
   ]
  },
  {
   "cell_type": "code",
   "execution_count": 18,
   "id": "b73a0411",
   "metadata": {},
   "outputs": [
    {
     "data": {
      "text/plain": [
       "array([0.12906688, 0.34261621, 0.56033034, 0.74339698, 0.31499017,\n",
       "       0.37614   , 0.62551548, 0.50015845, 0.26598208, 0.65304563,\n",
       "       0.11117531, 0.38472664, 0.13232029, 0.72731447, 0.20078175,\n",
       "       0.2082445 ])"
      ]
     },
     "execution_count": 18,
     "metadata": {},
     "output_type": "execute_result"
    }
   ],
   "source": [
    "#predicting the values with test data\n",
    "manual_predictions = manual_predict(X_test, beta)\n",
    "manual_predictions"
   ]
  },
  {
   "cell_type": "code",
   "execution_count": 22,
   "id": "da7d0d5d",
   "metadata": {},
   "outputs": [
    {
     "name": "stdout",
     "output_type": "stream",
     "text": [
      "0.044291851454093416\n",
      "3.744276046977224e-16\n"
     ]
    }
   ],
   "source": [
    "def rss(y_hat, y):\n",
    "    rss = np.sum(np.square((y_hat- y)))\n",
    "    return rss\n",
    "    \n",
    "manual_rss = rss(y_test,manual_predictions)\n",
    "reported_rss = rss(y_test,y_pred_m1)\n",
    "print(manual_rss)\n",
    "print(reported_rss)"
   ]
  },
  {
   "cell_type": "markdown",
   "id": "83ce6ff6",
   "metadata": {},
   "source": [
    "# 4. Function to calculate R square value"
   ]
  },
  {
   "cell_type": "code",
   "execution_count": 20,
   "id": "6db94064",
   "metadata": {},
   "outputs": [],
   "source": [
    "def r_squared(y_hat, y):\n",
    "    rss = np.sum(np.square((y_hat- y)))\n",
    "    mean = np.mean(y_hat)\n",
    "    sst = np.sum(np.square(y_hat-mean))\n",
    "    r_square = 1 - (rss/sst)\n",
    "    return r_square"
   ]
  },
  {
   "cell_type": "markdown",
   "id": "852b8872",
   "metadata": {},
   "source": [
    "# 5. Comparing R square values of statsmodel reported and manually calculated model after reducing coefficients"
   ]
  },
  {
   "cell_type": "code",
   "execution_count": 21,
   "id": "b91b91e5",
   "metadata": {},
   "outputs": [
    {
     "name": "stdout",
     "output_type": "stream",
     "text": [
      "0.9374554503397715\n",
      "0.9999999999999994\n"
     ]
    }
   ],
   "source": [
    "manual_model = r_squared(y_test,manual_predictions)\n",
    "reported_model = r_squared(y_test,y_pred_m1)\n",
    "print(manual_model)\n",
    "print(reported_model)"
   ]
  },
  {
   "cell_type": "code",
   "execution_count": null,
   "id": "e4feeabe",
   "metadata": {},
   "outputs": [],
   "source": []
  },
  {
   "cell_type": "code",
   "execution_count": null,
   "id": "b7ed4820",
   "metadata": {},
   "outputs": [],
   "source": []
  }
 ],
 "metadata": {
  "kernelspec": {
   "display_name": "Python 3 (ipykernel)",
   "language": "python",
   "name": "python3"
  },
  "language_info": {
   "codemirror_mode": {
    "name": "ipython",
    "version": 3
   },
   "file_extension": ".py",
   "mimetype": "text/x-python",
   "name": "python",
   "nbconvert_exporter": "python",
   "pygments_lexer": "ipython3",
   "version": "3.9.7"
  }
 },
 "nbformat": 4,
 "nbformat_minor": 5
}
